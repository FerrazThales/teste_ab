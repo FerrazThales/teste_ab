{
  "nbformat": 4,
  "nbformat_minor": 0,
  "metadata": {
    "colab": {
      "name": "Marketing_Campaign_ab_test.ipynb",
      "provenance": [],
      "authorship_tag": "ABX9TyOv4mhPNL1FcScGcMTmwv1C",
      "include_colab_link": true
    },
    "kernelspec": {
      "name": "python3",
      "display_name": "Python 3"
    },
    "language_info": {
      "name": "python"
    }
  },
  "cells": [
    {
      "cell_type": "markdown",
      "metadata": {
        "id": "view-in-github",
        "colab_type": "text"
      },
      "source": [
        "<a href=\"https://colab.research.google.com/github/FerrazThales/teste_ab/blob/main/Marketing_Campaign_ab_test.ipynb\" target=\"_parent\"><img src=\"https://colab.research.google.com/assets/colab-badge.svg\" alt=\"Open In Colab\"/></a>"
      ]
    },
    {
      "cell_type": "markdown",
      "source": [
        ""
      ],
      "metadata": {
        "id": "pw3nfJcC4Upt"
      }
    },
    {
      "cell_type": "markdown",
      "source": [
        ""
      ],
      "metadata": {
        "id": "5Ll0fG0C4VuZ"
      }
    },
    {
      "cell_type": "markdown",
      "source": [
        "contextualizar problema"
      ],
      "metadata": {
        "id": "lqCpHXWD4YNr"
      }
    },
    {
      "cell_type": "markdown",
      "source": [
        "#Obtenção dos Dados\n",
        "\n",
        "[Kaggle](https://www.kaggle.com/chebotinaa/fast-food-marketing-campaign-ab-test)"
      ],
      "metadata": {
        "id": "e5mXnVNa4aFB"
      }
    },
    {
      "cell_type": "code",
      "execution_count": null,
      "metadata": {
        "id": "75MbMC-s4RgQ"
      },
      "outputs": [],
      "source": [
        ""
      ]
    }
  ]
}